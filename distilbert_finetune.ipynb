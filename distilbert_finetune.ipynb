{
  "nbformat": 4,
  "nbformat_minor": 0,
  "metadata": {
    "colab": {
      "provenance": [],
      "gpuType": "T4",
      "mount_file_id": "1kZA28uMi9Ivj_Ureq_hbXOcznzYwrVeV",
      "authorship_tag": "ABX9TyMbWG6ytlJakrSbih//lKv9",
      "include_colab_link": true
    },
    "kernelspec": {
      "name": "python3",
      "display_name": "Python 3"
    },
    "language_info": {
      "name": "python"
    },
    "accelerator": "GPU"
  },
  "cells": [
    {
      "cell_type": "markdown",
      "metadata": {
        "id": "view-in-github",
        "colab_type": "text"
      },
      "source": [
        "<a href=\"https://colab.research.google.com/github/b2220356179/finetune/blob/main/distilbert_finetune.ipynb\" target=\"_parent\"><img src=\"https://colab.research.google.com/assets/colab-badge.svg\" alt=\"Open In Colab\"/></a>"
      ]
    },
    {
      "cell_type": "code",
      "source": [
        "from google.colab import drive\n",
        "drive.mount('/content/drive')"
      ],
      "metadata": {
        "colab": {
          "base_uri": "https://localhost:8080/"
        },
        "id": "uHRm69v7UKYN",
        "outputId": "d41268c9-d28d-43d9-f1ed-7451f5c75fef"
      },
      "execution_count": 2,
      "outputs": [
        {
          "output_type": "stream",
          "name": "stdout",
          "text": [
            "Mounted at /content/drive\n"
          ]
        }
      ]
    },
    {
      "cell_type": "code",
      "execution_count": 5,
      "metadata": {
        "colab": {
          "base_uri": "https://localhost:8080/"
        },
        "id": "d9UyXkDqS1ml",
        "outputId": "87f5d6e3-5ff1-40a9-afbf-6b0e3f811cfe"
      },
      "outputs": [
        {
          "output_type": "stream",
          "name": "stdout",
          "text": [
            "type     0\n",
            "posts    0\n",
            "label    0\n",
            "dtype: int64\n",
            "Empty posts: 0\n",
            "Min label: 0, Max label: 16\n"
          ]
        },
        {
          "output_type": "stream",
          "name": "stderr",
          "text": [
            "/usr/local/lib/python3.10/dist-packages/transformers/tokenization_utils_base.py:1601: FutureWarning: `clean_up_tokenization_spaces` was not set. It will be set to `True` by default. This behavior will be depracted in transformers v4.45, and will be then set to `False` by default. For more details check this issue: https://github.com/huggingface/transformers/issues/31884\n",
            "  warnings.warn(\n",
            "Some weights of the PyTorch model were not used when initializing the TF 2.0 model TFDistilBertForSequenceClassification: ['vocab_transform.weight', 'vocab_layer_norm.weight', 'vocab_transform.bias', 'vocab_projector.bias', 'vocab_layer_norm.bias']\n",
            "- This IS expected if you are initializing TFDistilBertForSequenceClassification from a PyTorch model trained on another task or with another architecture (e.g. initializing a TFBertForSequenceClassification model from a BertForPreTraining model).\n",
            "- This IS NOT expected if you are initializing TFDistilBertForSequenceClassification from a PyTorch model that you expect to be exactly identical (e.g. initializing a TFBertForSequenceClassification model from a BertForSequenceClassification model).\n",
            "Some weights or buffers of the TF 2.0 model TFDistilBertForSequenceClassification were not initialized from the PyTorch model and are newly initialized: ['pre_classifier.weight', 'pre_classifier.bias', 'classifier.weight', 'classifier.bias']\n",
            "You should probably TRAIN this model on a down-stream task to be able to use it for predictions and inference.\n"
          ]
        },
        {
          "output_type": "stream",
          "name": "stdout",
          "text": [
            "Epoch 1/3\n",
            "434/434 [==============================] - 482s 1s/step - loss: 2.1164 - accuracy: 0.3184 - val_loss: nan - val_accuracy: 0.4591\n",
            "Epoch 2/3\n",
            "434/434 [==============================] - 462s 1s/step - loss: 1.6361 - accuracy: 0.5017 - val_loss: nan - val_accuracy: 0.5409\n",
            "Epoch 3/3\n",
            "434/434 [==============================] - 456s 1s/step - loss: 1.3124 - accuracy: 0.6124 - val_loss: nan - val_accuracy: 0.5547\n",
            "109/109 [==============================] - 36s 333ms/step - loss: nan - accuracy: 0.5547\n",
            "109/109 [==============================] - 36s 320ms/step\n",
            "[[ 14   0   0   0   0   0   0   0   8   4   1   2   1   0   1   1   0]\n",
            " [  1  75   1   4   1   0   0   1  10  24   4   5   2   3   2   4   0]\n",
            " [  3   3  19   2   0   0   0   0   6   6   2   6   0   0   0   2   0]\n",
            " [  1  11   3  57   2   0   0   0  22  13   8  11   4   0   1   7   0]\n",
            " [  0   0   0   0   3   0   0   0   0   0   0   0   2   0   0   0   0]\n",
            " [  0   1   0   1   0   0   0   0   1   1   1   0   1   1   0   3   0]\n",
            " [  0   0   0   0   0   0   0   1   1   2   1   0   0   0   0   0   0]\n",
            " [  0   0   0   0   0   0   0   3   3   2   3   0   0   0   1   4   0]\n",
            " [  0  11   1   2   1   0   0   0 176  56  10   7   1   2   4   9   0]\n",
            " [  4  13   0   1   1   0   0   0  58 274  11   9   1   6   3   6   0]\n",
            " [  1   9   3   6   1   0   0   1  32  25 119  17   2   1   1   5   0]\n",
            " [  1   3   7  11   1   0   0   0  40  48  18 132   5   1   0   7   0]\n",
            " [  1   0   0   0   0   0   0   0   6   3   3   1  19   0   0   0   0]\n",
            " [  0   2   0   0   0   0   0   1   1  23   1   1   1  19   1   1   0]\n",
            " [  0   1   0   0   0   0   0   0   6   4   2   0   0   0  16   1   0]\n",
            " [  0   1   0   0   0   0   0   0   4   7   5   4   1   3   1  37   0]\n",
            " [  0   0   0   0   0   0   0   0   1   0   0   0   0   0   0   0   0]]\n"
          ]
        }
      ],
      "source": [
        "import pandas as pd\n",
        "from sklearn.model_selection import train_test_split\n",
        "from transformers import DistilBertTokenizerFast, TFDistilBertForSequenceClassification\n",
        "import tensorflow as tf\n",
        "from sklearn.metrics import confusion_matrix\n",
        "import tf_keras as keras\n",
        "\n",
        "# Load and preprocess dataset\n",
        "df = pd.read_csv('/content/drive/MyDrive/mbti_1.csv', names=[\"type\", \"posts\"])\n",
        "\n",
        "# Convert your target labels into one-hot encoded format (you have 16 classes)\n",
        "df['label'] = pd.Categorical(df['type'])\n",
        "df['label'] = df['label'].cat.codes\n",
        "\n",
        "# Check for missing values\n",
        "print(df.isnull().sum())\n",
        "\n",
        "# Optionally drop missing or invalid rows\n",
        "df.dropna(inplace=True)\n",
        "\n",
        "# Check for empty strings in posts\n",
        "empty_posts = df['posts'].apply(lambda x: len(str(x).strip()) == 0).sum()\n",
        "print(f'Empty posts: {empty_posts}')\n",
        "\n",
        "# Remove empty posts if found\n",
        "df = df[df['posts'].apply(lambda x: len(str(x).strip()) > 0)]\n",
        "\n",
        "# Split data\n",
        "X_train, X_test, y_train, y_test = train_test_split(df['posts'], df['label'], test_size=0.2, random_state=42)\n",
        "\n",
        "print(f'Min label: {df[\"label\"].min()}, Max label: {df[\"label\"].max()}')\n",
        "\n",
        "# Initialize tokenizer and model\n",
        "tokenizer = DistilBertTokenizerFast.from_pretrained('distilbert-base-uncased')\n",
        "model = TFDistilBertForSequenceClassification.from_pretrained('distilbert-base-uncased', num_labels=16)\n",
        "\n",
        "# Tokenize text\n",
        "train_encodings = tokenizer(list(X_train), truncation=True, padding=True, max_length=512)\n",
        "test_encodings = tokenizer(list(X_test), truncation=True, padding=True, max_length=512)\n",
        "\n",
        "\n",
        "# Convert to TensorFlow datasets\n",
        "train_dataset = tf.data.Dataset.from_tensor_slices((dict(train_encodings), y_train))\n",
        "test_dataset = tf.data.Dataset.from_tensor_slices((dict(test_encodings), y_test))\n",
        "\n",
        "# Batch and shuffle datasets\n",
        "train_dataset = train_dataset.batch(16).shuffle(len(X_train))\n",
        "test_dataset = test_dataset.batch(16)\n",
        "\n",
        "# Compile model\n",
        "model.compile(optimizer=tf.keras.optimizers.Adam(learning_rate=5e-5),\n",
        "              loss=tf.keras.losses.SparseCategoricalCrossentropy(from_logits=True),\n",
        "              metrics=['accuracy'])\n",
        "\n",
        "# Train model\n",
        "model.fit(train_dataset, epochs=3, validation_data=test_dataset)\n",
        "\n",
        "# Evaluate model\n",
        "model.evaluate(test_dataset)\n",
        "\n",
        "# Make predictions\n",
        "predictions = model.predict(test_dataset)\n",
        "y_pred = tf.argmax(predictions.logits, axis=-1)\n",
        "\n",
        "# Confusion matrix\n",
        "cm = confusion_matrix(y_test, y_pred)\n",
        "print(cm)"
      ]
    },
    {
      "cell_type": "code",
      "source": [
        "import os\n",
        "\n",
        "# Create directories for the model and tokenizer\n",
        "os.makedirs('/content/fine_tuned_model/model', exist_ok=True)\n",
        "os.makedirs('/content/fine_tuned_model/tokenizer', exist_ok=True)\n",
        "\n",
        "# Save model and tokenizer to separate subdirectories\n",
        "model.save_pretrained('/content/fine_tuned_model/model')\n",
        "tokenizer.save_pretrained('/content/fine_tuned_model/tokenizer')"
      ],
      "metadata": {
        "colab": {
          "base_uri": "https://localhost:8080/"
        },
        "id": "e0oGKGuo9geW",
        "outputId": "829de96e-2063-4b36-eb1b-e1cdcf52b30d"
      },
      "execution_count": 8,
      "outputs": [
        {
          "output_type": "execute_result",
          "data": {
            "text/plain": [
              "('/content/fine_tuned_model/tokenizer/tokenizer_config.json',\n",
              " '/content/fine_tuned_model/tokenizer/special_tokens_map.json',\n",
              " '/content/fine_tuned_model/tokenizer/vocab.txt',\n",
              " '/content/fine_tuned_model/tokenizer/added_tokens.json',\n",
              " '/content/fine_tuned_model/tokenizer/tokenizer.json')"
            ]
          },
          "metadata": {},
          "execution_count": 8
        }
      ]
    }
  ]
}